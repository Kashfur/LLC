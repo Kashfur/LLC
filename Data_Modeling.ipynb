{
  "nbformat": 4,
  "nbformat_minor": 0,
  "metadata": {
    "colab": {
      "provenance": []
    },
    "kernelspec": {
      "name": "python3",
      "display_name": "Python 3"
    },
    "language_info": {
      "name": "python"
    }
  },
  "cells": [
    {
      "cell_type": "code",
      "source": [
        "# importing libraries\n",
        "import numpy as np\n",
        "import pandas as pd"
      ],
      "metadata": {
        "id": "dh34TkVL_J_h"
      },
      "execution_count": null,
      "outputs": []
    },
    {
      "cell_type": "code",
      "source": [
        "from google.colab import drive\n",
        "drive.mount('/content/drive')"
      ],
      "metadata": {
        "colab": {
          "base_uri": "https://localhost:8080/"
        },
        "id": "7XAluLUo_K9p",
        "outputId": "0ef38a70-fac0-4160-bc87-9c94cd0436c4"
      },
      "execution_count": null,
      "outputs": [
        {
          "output_type": "stream",
          "name": "stdout",
          "text": [
            "Drive already mounted at /content/drive; to attempt to forcibly remount, call drive.mount(\"/content/drive\", force_remount=True).\n"
          ]
        }
      ]
    },
    {
      "cell_type": "markdown",
      "source": [
        "# **Loading Dataset**"
      ],
      "metadata": {
        "id": "nIfQtKpZfoTy"
      }
    },
    {
      "cell_type": "code",
      "source": [
        "df=pd.read_csv('/content/drive/MyDrive/llc/df.csv')\n",
        "df.head()"
      ],
      "metadata": {
        "id": "7iqlAO0JcsOY"
      },
      "execution_count": null,
      "outputs": []
    },
    {
      "cell_type": "code",
      "source": [
        "df.shape"
      ],
      "metadata": {
        "colab": {
          "base_uri": "https://localhost:8080/"
        },
        "id": "E_aQYm6rHISP",
        "outputId": "ce001ece-a51a-44cd-9dfb-203dc4f98817"
      },
      "execution_count": null,
      "outputs": [
        {
          "output_type": "execute_result",
          "data": {
            "text/plain": [
              "(252, 10)"
            ]
          },
          "metadata": {},
          "execution_count": 188
        }
      ]
    },
    {
      "cell_type": "code",
      "source": [
        "df.info()"
      ],
      "metadata": {
        "colab": {
          "base_uri": "https://localhost:8080/"
        },
        "id": "k7SgdahqHcd9",
        "outputId": "f092a37a-4b58-4b82-ec9f-5466a70e274e"
      },
      "execution_count": null,
      "outputs": [
        {
          "output_type": "stream",
          "name": "stdout",
          "text": [
            "<class 'pandas.core.frame.DataFrame'>\n",
            "DatetimeIndex: 252 entries, 2003-01-01 to 2023-12-01\n",
            "Freq: MS\n",
            "Data columns (total 10 columns):\n",
            " #   Column                    Non-Null Count  Dtype  \n",
            "---  ------                    --------------  -----  \n",
            " 0   Working_population        250 non-null    float64\n",
            " 1   unemployement rate        251 non-null    float64\n",
            " 2   Monthly new house supply  250 non-null    float64\n",
            " 3   Median Household income   20 non-null     float64\n",
            " 4   Inflation                 20 non-null     float64\n",
            " 5   CONSTRUCTION SPENDING     250 non-null    float64\n",
            " 6   POPULATION                252 non-null    float64\n",
            " 7   CONSUMER PRICE INDEX      249 non-null    float64\n",
            " 8   Gdp                       83 non-null     float64\n",
            " 9   House Price Index         83 non-null     float64\n",
            "dtypes: float64(10)\n",
            "memory usage: 21.7 KB\n"
          ]
        }
      ]
    },
    {
      "cell_type": "code",
      "source": [
        "df.isnull().sum()"
      ],
      "metadata": {
        "colab": {
          "base_uri": "https://localhost:8080/"
        },
        "id": "VoiezNzjlIwn",
        "outputId": "9a1007af-64ff-4ba0-8fe1-a93e5072b7a8"
      },
      "execution_count": null,
      "outputs": [
        {
          "output_type": "execute_result",
          "data": {
            "text/plain": [
              "Working_population          0\n",
              "unemployement rate          0\n",
              "Monthly new house supply    0\n",
              "Median Household income     0\n",
              "Inflation                   0\n",
              "CONSTRUCTION SPENDING       0\n",
              "POPULATION                  0\n",
              "CONSUMER PRICE INDEX        0\n",
              "Gdp                         0\n",
              "House Price Index           0\n",
              "dtype: int64"
            ]
          },
          "metadata": {},
          "execution_count": 196
        }
      ]
    },
    {
      "cell_type": "code",
      "source": [
        "df.head(10)"
      ],
      "metadata": {
        "colab": {
          "base_uri": "https://localhost:8080/",
          "height": 585
        },
        "id": "d5B6ABYQucgH",
        "outputId": "e3ee9b7d-c534-4d53-e3e1-88113937fc35"
      },
      "execution_count": null,
      "outputs": [
        {
          "output_type": "execute_result",
          "data": {
            "text/plain": [
              "           Working_population unemployement rate Monthly new house supply  \\\n",
              "DATE                                                                        \n",
              "2003-01-01        185635346.4                5.8                      4.0   \n",
              "2003-02-01        185869692.3                5.9                      4.5   \n",
              "2003-03-01        186085118.2                5.9                      4.1   \n",
              "2003-04-01        186470754.0                6.0                      4.1   \n",
              "2003-05-01        186649078.0                6.1                      3.9   \n",
              "2003-06-01        186800679.6                6.3                      3.5   \n",
              "2003-07-01        187066500.3                6.2                      3.6   \n",
              "2003-08-01        187304009.5                6.1                      3.5   \n",
              "2003-09-01        187538981.3                6.1                      3.8   \n",
              "2003-10-01        187738514.8                6.0                      3.8   \n",
              "\n",
              "            Median Household income  Inflation CONSTRUCTION SPENDING  \\\n",
              "DATE                                                                   \n",
              "2003-01-01             65860.000000   2.270095              863855.0   \n",
              "2003-02-01             65851.666667   2.304023              859225.0   \n",
              "2003-03-01             65843.333333   2.337952              851132.0   \n",
              "2003-04-01             65835.000000   2.371880              859459.0   \n",
              "2003-05-01             65826.666667   2.405809              866814.0   \n",
              "2003-06-01             65818.333333   2.439737              880865.0   \n",
              "2003-07-01             65810.000000   2.473666              891264.0   \n",
              "2003-08-01             65801.666667   2.507594              901839.0   \n",
              "2003-09-01             65793.333333   2.541523              911589.0   \n",
              "2003-10-01             65785.000000   2.575451              925732.0   \n",
              "\n",
              "            POPULATION CONSUMER PRICE INDEX           Gdp  House Price Index  \n",
              "DATE                                                                          \n",
              "2003-01-01    289518.0             0.442233  50462.000000         279.750000  \n",
              "2003-02-01    289714.0             0.770501  50573.333333         280.890000  \n",
              "2003-03-01    289911.0             0.600765  50684.666667         282.030000  \n",
              "2003-04-01    290125.0            -0.217155  50796.000000         283.170000  \n",
              "2003-05-01    290346.0            -0.163221  51034.666667         284.623333  \n",
              "2003-06-01    290584.0             0.108992  51273.333333         286.076667  \n",
              "2003-07-01    290820.0             0.108873  51512.000000         287.530000  \n",
              "2003-08-01    291072.0             0.380642  51670.000000         290.243333  \n",
              "2003-09-01    291321.0             0.325027  51828.000000         292.956667  \n",
              "2003-10-01    291574.0            -0.107991  51986.000000         295.670000  "
            ],
            "text/html": [
              "\n",
              "  <div id=\"df-27408db5-5bc0-402f-9708-5419e4e3a1d1\" class=\"colab-df-container\">\n",
              "    <div>\n",
              "<style scoped>\n",
              "    .dataframe tbody tr th:only-of-type {\n",
              "        vertical-align: middle;\n",
              "    }\n",
              "\n",
              "    .dataframe tbody tr th {\n",
              "        vertical-align: top;\n",
              "    }\n",
              "\n",
              "    .dataframe thead th {\n",
              "        text-align: right;\n",
              "    }\n",
              "</style>\n",
              "<table border=\"1\" class=\"dataframe\">\n",
              "  <thead>\n",
              "    <tr style=\"text-align: right;\">\n",
              "      <th></th>\n",
              "      <th>Working_population</th>\n",
              "      <th>unemployement rate</th>\n",
              "      <th>Monthly new house supply</th>\n",
              "      <th>Median Household income</th>\n",
              "      <th>Inflation</th>\n",
              "      <th>CONSTRUCTION SPENDING</th>\n",
              "      <th>POPULATION</th>\n",
              "      <th>CONSUMER PRICE INDEX</th>\n",
              "      <th>Gdp</th>\n",
              "      <th>House Price Index</th>\n",
              "    </tr>\n",
              "    <tr>\n",
              "      <th>DATE</th>\n",
              "      <th></th>\n",
              "      <th></th>\n",
              "      <th></th>\n",
              "      <th></th>\n",
              "      <th></th>\n",
              "      <th></th>\n",
              "      <th></th>\n",
              "      <th></th>\n",
              "      <th></th>\n",
              "      <th></th>\n",
              "    </tr>\n",
              "  </thead>\n",
              "  <tbody>\n",
              "    <tr>\n",
              "      <th>2003-01-01</th>\n",
              "      <td>185635346.4</td>\n",
              "      <td>5.8</td>\n",
              "      <td>4.0</td>\n",
              "      <td>65860.000000</td>\n",
              "      <td>2.270095</td>\n",
              "      <td>863855.0</td>\n",
              "      <td>289518.0</td>\n",
              "      <td>0.442233</td>\n",
              "      <td>50462.000000</td>\n",
              "      <td>279.750000</td>\n",
              "    </tr>\n",
              "    <tr>\n",
              "      <th>2003-02-01</th>\n",
              "      <td>185869692.3</td>\n",
              "      <td>5.9</td>\n",
              "      <td>4.5</td>\n",
              "      <td>65851.666667</td>\n",
              "      <td>2.304023</td>\n",
              "      <td>859225.0</td>\n",
              "      <td>289714.0</td>\n",
              "      <td>0.770501</td>\n",
              "      <td>50573.333333</td>\n",
              "      <td>280.890000</td>\n",
              "    </tr>\n",
              "    <tr>\n",
              "      <th>2003-03-01</th>\n",
              "      <td>186085118.2</td>\n",
              "      <td>5.9</td>\n",
              "      <td>4.1</td>\n",
              "      <td>65843.333333</td>\n",
              "      <td>2.337952</td>\n",
              "      <td>851132.0</td>\n",
              "      <td>289911.0</td>\n",
              "      <td>0.600765</td>\n",
              "      <td>50684.666667</td>\n",
              "      <td>282.030000</td>\n",
              "    </tr>\n",
              "    <tr>\n",
              "      <th>2003-04-01</th>\n",
              "      <td>186470754.0</td>\n",
              "      <td>6.0</td>\n",
              "      <td>4.1</td>\n",
              "      <td>65835.000000</td>\n",
              "      <td>2.371880</td>\n",
              "      <td>859459.0</td>\n",
              "      <td>290125.0</td>\n",
              "      <td>-0.217155</td>\n",
              "      <td>50796.000000</td>\n",
              "      <td>283.170000</td>\n",
              "    </tr>\n",
              "    <tr>\n",
              "      <th>2003-05-01</th>\n",
              "      <td>186649078.0</td>\n",
              "      <td>6.1</td>\n",
              "      <td>3.9</td>\n",
              "      <td>65826.666667</td>\n",
              "      <td>2.405809</td>\n",
              "      <td>866814.0</td>\n",
              "      <td>290346.0</td>\n",
              "      <td>-0.163221</td>\n",
              "      <td>51034.666667</td>\n",
              "      <td>284.623333</td>\n",
              "    </tr>\n",
              "    <tr>\n",
              "      <th>2003-06-01</th>\n",
              "      <td>186800679.6</td>\n",
              "      <td>6.3</td>\n",
              "      <td>3.5</td>\n",
              "      <td>65818.333333</td>\n",
              "      <td>2.439737</td>\n",
              "      <td>880865.0</td>\n",
              "      <td>290584.0</td>\n",
              "      <td>0.108992</td>\n",
              "      <td>51273.333333</td>\n",
              "      <td>286.076667</td>\n",
              "    </tr>\n",
              "    <tr>\n",
              "      <th>2003-07-01</th>\n",
              "      <td>187066500.3</td>\n",
              "      <td>6.2</td>\n",
              "      <td>3.6</td>\n",
              "      <td>65810.000000</td>\n",
              "      <td>2.473666</td>\n",
              "      <td>891264.0</td>\n",
              "      <td>290820.0</td>\n",
              "      <td>0.108873</td>\n",
              "      <td>51512.000000</td>\n",
              "      <td>287.530000</td>\n",
              "    </tr>\n",
              "    <tr>\n",
              "      <th>2003-08-01</th>\n",
              "      <td>187304009.5</td>\n",
              "      <td>6.1</td>\n",
              "      <td>3.5</td>\n",
              "      <td>65801.666667</td>\n",
              "      <td>2.507594</td>\n",
              "      <td>901839.0</td>\n",
              "      <td>291072.0</td>\n",
              "      <td>0.380642</td>\n",
              "      <td>51670.000000</td>\n",
              "      <td>290.243333</td>\n",
              "    </tr>\n",
              "    <tr>\n",
              "      <th>2003-09-01</th>\n",
              "      <td>187538981.3</td>\n",
              "      <td>6.1</td>\n",
              "      <td>3.8</td>\n",
              "      <td>65793.333333</td>\n",
              "      <td>2.541523</td>\n",
              "      <td>911589.0</td>\n",
              "      <td>291321.0</td>\n",
              "      <td>0.325027</td>\n",
              "      <td>51828.000000</td>\n",
              "      <td>292.956667</td>\n",
              "    </tr>\n",
              "    <tr>\n",
              "      <th>2003-10-01</th>\n",
              "      <td>187738514.8</td>\n",
              "      <td>6.0</td>\n",
              "      <td>3.8</td>\n",
              "      <td>65785.000000</td>\n",
              "      <td>2.575451</td>\n",
              "      <td>925732.0</td>\n",
              "      <td>291574.0</td>\n",
              "      <td>-0.107991</td>\n",
              "      <td>51986.000000</td>\n",
              "      <td>295.670000</td>\n",
              "    </tr>\n",
              "  </tbody>\n",
              "</table>\n",
              "</div>\n",
              "    <div class=\"colab-df-buttons\">\n",
              "\n",
              "  <div class=\"colab-df-container\">\n",
              "    <button class=\"colab-df-convert\" onclick=\"convertToInteractive('df-27408db5-5bc0-402f-9708-5419e4e3a1d1')\"\n",
              "            title=\"Convert this dataframe to an interactive table.\"\n",
              "            style=\"display:none;\">\n",
              "\n",
              "  <svg xmlns=\"http://www.w3.org/2000/svg\" height=\"24px\" viewBox=\"0 -960 960 960\">\n",
              "    <path d=\"M120-120v-720h720v720H120Zm60-500h600v-160H180v160Zm220 220h160v-160H400v160Zm0 220h160v-160H400v160ZM180-400h160v-160H180v160Zm440 0h160v-160H620v160ZM180-180h160v-160H180v160Zm440 0h160v-160H620v160Z\"/>\n",
              "  </svg>\n",
              "    </button>\n",
              "\n",
              "  <style>\n",
              "    .colab-df-container {\n",
              "      display:flex;\n",
              "      gap: 12px;\n",
              "    }\n",
              "\n",
              "    .colab-df-convert {\n",
              "      background-color: #E8F0FE;\n",
              "      border: none;\n",
              "      border-radius: 50%;\n",
              "      cursor: pointer;\n",
              "      display: none;\n",
              "      fill: #1967D2;\n",
              "      height: 32px;\n",
              "      padding: 0 0 0 0;\n",
              "      width: 32px;\n",
              "    }\n",
              "\n",
              "    .colab-df-convert:hover {\n",
              "      background-color: #E2EBFA;\n",
              "      box-shadow: 0px 1px 2px rgba(60, 64, 67, 0.3), 0px 1px 3px 1px rgba(60, 64, 67, 0.15);\n",
              "      fill: #174EA6;\n",
              "    }\n",
              "\n",
              "    .colab-df-buttons div {\n",
              "      margin-bottom: 4px;\n",
              "    }\n",
              "\n",
              "    [theme=dark] .colab-df-convert {\n",
              "      background-color: #3B4455;\n",
              "      fill: #D2E3FC;\n",
              "    }\n",
              "\n",
              "    [theme=dark] .colab-df-convert:hover {\n",
              "      background-color: #434B5C;\n",
              "      box-shadow: 0px 1px 3px 1px rgba(0, 0, 0, 0.15);\n",
              "      filter: drop-shadow(0px 1px 2px rgba(0, 0, 0, 0.3));\n",
              "      fill: #FFFFFF;\n",
              "    }\n",
              "  </style>\n",
              "\n",
              "    <script>\n",
              "      const buttonEl =\n",
              "        document.querySelector('#df-27408db5-5bc0-402f-9708-5419e4e3a1d1 button.colab-df-convert');\n",
              "      buttonEl.style.display =\n",
              "        google.colab.kernel.accessAllowed ? 'block' : 'none';\n",
              "\n",
              "      async function convertToInteractive(key) {\n",
              "        const element = document.querySelector('#df-27408db5-5bc0-402f-9708-5419e4e3a1d1');\n",
              "        const dataTable =\n",
              "          await google.colab.kernel.invokeFunction('convertToInteractive',\n",
              "                                                    [key], {});\n",
              "        if (!dataTable) return;\n",
              "\n",
              "        const docLinkHtml = 'Like what you see? Visit the ' +\n",
              "          '<a target=\"_blank\" href=https://colab.research.google.com/notebooks/data_table.ipynb>data table notebook</a>'\n",
              "          + ' to learn more about interactive tables.';\n",
              "        element.innerHTML = '';\n",
              "        dataTable['output_type'] = 'display_data';\n",
              "        await google.colab.output.renderOutput(dataTable, element);\n",
              "        const docLink = document.createElement('div');\n",
              "        docLink.innerHTML = docLinkHtml;\n",
              "        element.appendChild(docLink);\n",
              "      }\n",
              "    </script>\n",
              "  </div>\n",
              "\n",
              "\n",
              "<div id=\"df-c6aec3aa-2548-4739-81b9-55502d986489\">\n",
              "  <button class=\"colab-df-quickchart\" onclick=\"quickchart('df-c6aec3aa-2548-4739-81b9-55502d986489')\"\n",
              "            title=\"Suggest charts\"\n",
              "            style=\"display:none;\">\n",
              "\n",
              "<svg xmlns=\"http://www.w3.org/2000/svg\" height=\"24px\"viewBox=\"0 0 24 24\"\n",
              "     width=\"24px\">\n",
              "    <g>\n",
              "        <path d=\"M19 3H5c-1.1 0-2 .9-2 2v14c0 1.1.9 2 2 2h14c1.1 0 2-.9 2-2V5c0-1.1-.9-2-2-2zM9 17H7v-7h2v7zm4 0h-2V7h2v10zm4 0h-2v-4h2v4z\"/>\n",
              "    </g>\n",
              "</svg>\n",
              "  </button>\n",
              "\n",
              "<style>\n",
              "  .colab-df-quickchart {\n",
              "      --bg-color: #E8F0FE;\n",
              "      --fill-color: #1967D2;\n",
              "      --hover-bg-color: #E2EBFA;\n",
              "      --hover-fill-color: #174EA6;\n",
              "      --disabled-fill-color: #AAA;\n",
              "      --disabled-bg-color: #DDD;\n",
              "  }\n",
              "\n",
              "  [theme=dark] .colab-df-quickchart {\n",
              "      --bg-color: #3B4455;\n",
              "      --fill-color: #D2E3FC;\n",
              "      --hover-bg-color: #434B5C;\n",
              "      --hover-fill-color: #FFFFFF;\n",
              "      --disabled-bg-color: #3B4455;\n",
              "      --disabled-fill-color: #666;\n",
              "  }\n",
              "\n",
              "  .colab-df-quickchart {\n",
              "    background-color: var(--bg-color);\n",
              "    border: none;\n",
              "    border-radius: 50%;\n",
              "    cursor: pointer;\n",
              "    display: none;\n",
              "    fill: var(--fill-color);\n",
              "    height: 32px;\n",
              "    padding: 0;\n",
              "    width: 32px;\n",
              "  }\n",
              "\n",
              "  .colab-df-quickchart:hover {\n",
              "    background-color: var(--hover-bg-color);\n",
              "    box-shadow: 0 1px 2px rgba(60, 64, 67, 0.3), 0 1px 3px 1px rgba(60, 64, 67, 0.15);\n",
              "    fill: var(--button-hover-fill-color);\n",
              "  }\n",
              "\n",
              "  .colab-df-quickchart-complete:disabled,\n",
              "  .colab-df-quickchart-complete:disabled:hover {\n",
              "    background-color: var(--disabled-bg-color);\n",
              "    fill: var(--disabled-fill-color);\n",
              "    box-shadow: none;\n",
              "  }\n",
              "\n",
              "  .colab-df-spinner {\n",
              "    border: 2px solid var(--fill-color);\n",
              "    border-color: transparent;\n",
              "    border-bottom-color: var(--fill-color);\n",
              "    animation:\n",
              "      spin 1s steps(1) infinite;\n",
              "  }\n",
              "\n",
              "  @keyframes spin {\n",
              "    0% {\n",
              "      border-color: transparent;\n",
              "      border-bottom-color: var(--fill-color);\n",
              "      border-left-color: var(--fill-color);\n",
              "    }\n",
              "    20% {\n",
              "      border-color: transparent;\n",
              "      border-left-color: var(--fill-color);\n",
              "      border-top-color: var(--fill-color);\n",
              "    }\n",
              "    30% {\n",
              "      border-color: transparent;\n",
              "      border-left-color: var(--fill-color);\n",
              "      border-top-color: var(--fill-color);\n",
              "      border-right-color: var(--fill-color);\n",
              "    }\n",
              "    40% {\n",
              "      border-color: transparent;\n",
              "      border-right-color: var(--fill-color);\n",
              "      border-top-color: var(--fill-color);\n",
              "    }\n",
              "    60% {\n",
              "      border-color: transparent;\n",
              "      border-right-color: var(--fill-color);\n",
              "    }\n",
              "    80% {\n",
              "      border-color: transparent;\n",
              "      border-right-color: var(--fill-color);\n",
              "      border-bottom-color: var(--fill-color);\n",
              "    }\n",
              "    90% {\n",
              "      border-color: transparent;\n",
              "      border-bottom-color: var(--fill-color);\n",
              "    }\n",
              "  }\n",
              "</style>\n",
              "\n",
              "  <script>\n",
              "    async function quickchart(key) {\n",
              "      const quickchartButtonEl =\n",
              "        document.querySelector('#' + key + ' button');\n",
              "      quickchartButtonEl.disabled = true;  // To prevent multiple clicks.\n",
              "      quickchartButtonEl.classList.add('colab-df-spinner');\n",
              "      try {\n",
              "        const charts = await google.colab.kernel.invokeFunction(\n",
              "            'suggestCharts', [key], {});\n",
              "      } catch (error) {\n",
              "        console.error('Error during call to suggestCharts:', error);\n",
              "      }\n",
              "      quickchartButtonEl.classList.remove('colab-df-spinner');\n",
              "      quickchartButtonEl.classList.add('colab-df-quickchart-complete');\n",
              "    }\n",
              "    (() => {\n",
              "      let quickchartButtonEl =\n",
              "        document.querySelector('#df-c6aec3aa-2548-4739-81b9-55502d986489 button');\n",
              "      quickchartButtonEl.style.display =\n",
              "        google.colab.kernel.accessAllowed ? 'block' : 'none';\n",
              "    })();\n",
              "  </script>\n",
              "</div>\n",
              "    </div>\n",
              "  </div>\n"
            ]
          },
          "metadata": {},
          "execution_count": 197
        }
      ]
    },
    {
      "cell_type": "markdown",
      "source": [
        "# **creating X and Y variables**"
      ],
      "metadata": {
        "id": "w6aNZCV3fYPg"
      }
    },
    {
      "cell_type": "code",
      "source": [
        "# Creating independent variables\n",
        "Y = df['House Price Index']\n",
        "\n",
        "# Creating dependent variable\n",
        "X = df.drop(columns=['House Price Index'],axis=1)\n"
      ],
      "metadata": {
        "id": "4HIak24X9DoN"
      },
      "execution_count": null,
      "outputs": []
    },
    {
      "cell_type": "code",
      "source": [
        "X"
      ],
      "metadata": {
        "colab": {
          "base_uri": "https://localhost:8080/",
          "height": 646
        },
        "id": "zKNcE62BCviI",
        "outputId": "9d137552-3bb7-48d8-c844-f2def19cfafc"
      },
      "execution_count": null,
      "outputs": [
        {
          "output_type": "execute_result",
          "data": {
            "text/plain": [
              "            Working_population  unemployement rate  Monthly new house supply  \\\n",
              "DATE                                                                           \n",
              "2003-01-01         185635346.4                 5.8                       4.0   \n",
              "2003-02-01         185869692.3                 5.9                       4.5   \n",
              "2003-03-01         186085118.2                 5.9                       4.1   \n",
              "2003-04-01         186470754.0                 6.0                       4.1   \n",
              "2003-05-01         186649078.0                 6.1                       3.9   \n",
              "...                        ...                 ...                       ...   \n",
              "2023-08-01         208906586.8                 3.8                       7.8   \n",
              "2023-09-01         209117169.8                 3.8                       7.2   \n",
              "2023-10-01         209039442.2                 3.9                       7.8   \n",
              "2023-11-01                 NaN                 3.7                       NaN   \n",
              "2023-12-01                 NaN                 NaN                       NaN   \n",
              "\n",
              "            Median Household income  Inflation  CONSTRUCTION SPENDING  \\\n",
              "DATE                                                                    \n",
              "2003-01-01             65860.000000   2.270095               863855.0   \n",
              "2003-02-01             65851.666667   2.304023               859225.0   \n",
              "2003-03-01             65843.333333   2.337952               851132.0   \n",
              "2003-04-01             65835.000000   2.371880               859459.0   \n",
              "2003-05-01             65826.666667   2.405809               866814.0   \n",
              "...                             ...        ...                    ...   \n",
              "2023-08-01             74580.000000   8.002800              2010143.0   \n",
              "2023-09-01             74580.000000   8.002800              2014718.0   \n",
              "2023-10-01             74580.000000   8.002800              2027072.0   \n",
              "2023-11-01             74580.000000   8.002800                    NaN   \n",
              "2023-12-01             74580.000000   8.002800                    NaN   \n",
              "\n",
              "            POPULATION  CONSUMER PRICE INDEX           Gdp  \n",
              "DATE                                                        \n",
              "2003-01-01  289518.000              0.442233  50462.000000  \n",
              "2003-02-01  289714.000              0.770501  50573.333333  \n",
              "2003-03-01  289911.000              0.600765  50684.666667  \n",
              "2003-04-01  290125.000             -0.217155  50796.000000  \n",
              "2003-05-01  290346.000             -0.163221  51034.666667  \n",
              "...                ...                   ...           ...  \n",
              "2023-08-01  335413.676              0.436716  67083.000000  \n",
              "2023-09-01  335587.795              0.248513  67083.000000  \n",
              "2023-10-01  335761.692                   NaN  67083.000000  \n",
              "2023-11-01  335911.267                   NaN  67083.000000  \n",
              "2023-12-01  336047.315                   NaN  67083.000000  \n",
              "\n",
              "[252 rows x 9 columns]"
            ],
            "text/html": [
              "\n",
              "  <div id=\"df-0b6454f2-5d47-4bf5-b14c-7f49f17b50ed\" class=\"colab-df-container\">\n",
              "    <div>\n",
              "<style scoped>\n",
              "    .dataframe tbody tr th:only-of-type {\n",
              "        vertical-align: middle;\n",
              "    }\n",
              "\n",
              "    .dataframe tbody tr th {\n",
              "        vertical-align: top;\n",
              "    }\n",
              "\n",
              "    .dataframe thead th {\n",
              "        text-align: right;\n",
              "    }\n",
              "</style>\n",
              "<table border=\"1\" class=\"dataframe\">\n",
              "  <thead>\n",
              "    <tr style=\"text-align: right;\">\n",
              "      <th></th>\n",
              "      <th>Working_population</th>\n",
              "      <th>unemployement rate</th>\n",
              "      <th>Monthly new house supply</th>\n",
              "      <th>Median Household income</th>\n",
              "      <th>Inflation</th>\n",
              "      <th>CONSTRUCTION SPENDING</th>\n",
              "      <th>POPULATION</th>\n",
              "      <th>CONSUMER PRICE INDEX</th>\n",
              "      <th>Gdp</th>\n",
              "    </tr>\n",
              "    <tr>\n",
              "      <th>DATE</th>\n",
              "      <th></th>\n",
              "      <th></th>\n",
              "      <th></th>\n",
              "      <th></th>\n",
              "      <th></th>\n",
              "      <th></th>\n",
              "      <th></th>\n",
              "      <th></th>\n",
              "      <th></th>\n",
              "    </tr>\n",
              "  </thead>\n",
              "  <tbody>\n",
              "    <tr>\n",
              "      <th>2003-01-01</th>\n",
              "      <td>185635346.4</td>\n",
              "      <td>5.8</td>\n",
              "      <td>4.0</td>\n",
              "      <td>65860.000000</td>\n",
              "      <td>2.270095</td>\n",
              "      <td>863855.0</td>\n",
              "      <td>289518.000</td>\n",
              "      <td>0.442233</td>\n",
              "      <td>50462.000000</td>\n",
              "    </tr>\n",
              "    <tr>\n",
              "      <th>2003-02-01</th>\n",
              "      <td>185869692.3</td>\n",
              "      <td>5.9</td>\n",
              "      <td>4.5</td>\n",
              "      <td>65851.666667</td>\n",
              "      <td>2.304023</td>\n",
              "      <td>859225.0</td>\n",
              "      <td>289714.000</td>\n",
              "      <td>0.770501</td>\n",
              "      <td>50573.333333</td>\n",
              "    </tr>\n",
              "    <tr>\n",
              "      <th>2003-03-01</th>\n",
              "      <td>186085118.2</td>\n",
              "      <td>5.9</td>\n",
              "      <td>4.1</td>\n",
              "      <td>65843.333333</td>\n",
              "      <td>2.337952</td>\n",
              "      <td>851132.0</td>\n",
              "      <td>289911.000</td>\n",
              "      <td>0.600765</td>\n",
              "      <td>50684.666667</td>\n",
              "    </tr>\n",
              "    <tr>\n",
              "      <th>2003-04-01</th>\n",
              "      <td>186470754.0</td>\n",
              "      <td>6.0</td>\n",
              "      <td>4.1</td>\n",
              "      <td>65835.000000</td>\n",
              "      <td>2.371880</td>\n",
              "      <td>859459.0</td>\n",
              "      <td>290125.000</td>\n",
              "      <td>-0.217155</td>\n",
              "      <td>50796.000000</td>\n",
              "    </tr>\n",
              "    <tr>\n",
              "      <th>2003-05-01</th>\n",
              "      <td>186649078.0</td>\n",
              "      <td>6.1</td>\n",
              "      <td>3.9</td>\n",
              "      <td>65826.666667</td>\n",
              "      <td>2.405809</td>\n",
              "      <td>866814.0</td>\n",
              "      <td>290346.000</td>\n",
              "      <td>-0.163221</td>\n",
              "      <td>51034.666667</td>\n",
              "    </tr>\n",
              "    <tr>\n",
              "      <th>...</th>\n",
              "      <td>...</td>\n",
              "      <td>...</td>\n",
              "      <td>...</td>\n",
              "      <td>...</td>\n",
              "      <td>...</td>\n",
              "      <td>...</td>\n",
              "      <td>...</td>\n",
              "      <td>...</td>\n",
              "      <td>...</td>\n",
              "    </tr>\n",
              "    <tr>\n",
              "      <th>2023-08-01</th>\n",
              "      <td>208906586.8</td>\n",
              "      <td>3.8</td>\n",
              "      <td>7.8</td>\n",
              "      <td>74580.000000</td>\n",
              "      <td>8.002800</td>\n",
              "      <td>2010143.0</td>\n",
              "      <td>335413.676</td>\n",
              "      <td>0.436716</td>\n",
              "      <td>67083.000000</td>\n",
              "    </tr>\n",
              "    <tr>\n",
              "      <th>2023-09-01</th>\n",
              "      <td>209117169.8</td>\n",
              "      <td>3.8</td>\n",
              "      <td>7.2</td>\n",
              "      <td>74580.000000</td>\n",
              "      <td>8.002800</td>\n",
              "      <td>2014718.0</td>\n",
              "      <td>335587.795</td>\n",
              "      <td>0.248513</td>\n",
              "      <td>67083.000000</td>\n",
              "    </tr>\n",
              "    <tr>\n",
              "      <th>2023-10-01</th>\n",
              "      <td>209039442.2</td>\n",
              "      <td>3.9</td>\n",
              "      <td>7.8</td>\n",
              "      <td>74580.000000</td>\n",
              "      <td>8.002800</td>\n",
              "      <td>2027072.0</td>\n",
              "      <td>335761.692</td>\n",
              "      <td>NaN</td>\n",
              "      <td>67083.000000</td>\n",
              "    </tr>\n",
              "    <tr>\n",
              "      <th>2023-11-01</th>\n",
              "      <td>NaN</td>\n",
              "      <td>3.7</td>\n",
              "      <td>NaN</td>\n",
              "      <td>74580.000000</td>\n",
              "      <td>8.002800</td>\n",
              "      <td>NaN</td>\n",
              "      <td>335911.267</td>\n",
              "      <td>NaN</td>\n",
              "      <td>67083.000000</td>\n",
              "    </tr>\n",
              "    <tr>\n",
              "      <th>2023-12-01</th>\n",
              "      <td>NaN</td>\n",
              "      <td>NaN</td>\n",
              "      <td>NaN</td>\n",
              "      <td>74580.000000</td>\n",
              "      <td>8.002800</td>\n",
              "      <td>NaN</td>\n",
              "      <td>336047.315</td>\n",
              "      <td>NaN</td>\n",
              "      <td>67083.000000</td>\n",
              "    </tr>\n",
              "  </tbody>\n",
              "</table>\n",
              "<p>252 rows × 9 columns</p>\n",
              "</div>\n",
              "    <div class=\"colab-df-buttons\">\n",
              "\n",
              "  <div class=\"colab-df-container\">\n",
              "    <button class=\"colab-df-convert\" onclick=\"convertToInteractive('df-0b6454f2-5d47-4bf5-b14c-7f49f17b50ed')\"\n",
              "            title=\"Convert this dataframe to an interactive table.\"\n",
              "            style=\"display:none;\">\n",
              "\n",
              "  <svg xmlns=\"http://www.w3.org/2000/svg\" height=\"24px\" viewBox=\"0 -960 960 960\">\n",
              "    <path d=\"M120-120v-720h720v720H120Zm60-500h600v-160H180v160Zm220 220h160v-160H400v160Zm0 220h160v-160H400v160ZM180-400h160v-160H180v160Zm440 0h160v-160H620v160ZM180-180h160v-160H180v160Zm440 0h160v-160H620v160Z\"/>\n",
              "  </svg>\n",
              "    </button>\n",
              "\n",
              "  <style>\n",
              "    .colab-df-container {\n",
              "      display:flex;\n",
              "      gap: 12px;\n",
              "    }\n",
              "\n",
              "    .colab-df-convert {\n",
              "      background-color: #E8F0FE;\n",
              "      border: none;\n",
              "      border-radius: 50%;\n",
              "      cursor: pointer;\n",
              "      display: none;\n",
              "      fill: #1967D2;\n",
              "      height: 32px;\n",
              "      padding: 0 0 0 0;\n",
              "      width: 32px;\n",
              "    }\n",
              "\n",
              "    .colab-df-convert:hover {\n",
              "      background-color: #E2EBFA;\n",
              "      box-shadow: 0px 1px 2px rgba(60, 64, 67, 0.3), 0px 1px 3px 1px rgba(60, 64, 67, 0.15);\n",
              "      fill: #174EA6;\n",
              "    }\n",
              "\n",
              "    .colab-df-buttons div {\n",
              "      margin-bottom: 4px;\n",
              "    }\n",
              "\n",
              "    [theme=dark] .colab-df-convert {\n",
              "      background-color: #3B4455;\n",
              "      fill: #D2E3FC;\n",
              "    }\n",
              "\n",
              "    [theme=dark] .colab-df-convert:hover {\n",
              "      background-color: #434B5C;\n",
              "      box-shadow: 0px 1px 3px 1px rgba(0, 0, 0, 0.15);\n",
              "      filter: drop-shadow(0px 1px 2px rgba(0, 0, 0, 0.3));\n",
              "      fill: #FFFFFF;\n",
              "    }\n",
              "  </style>\n",
              "\n",
              "    <script>\n",
              "      const buttonEl =\n",
              "        document.querySelector('#df-0b6454f2-5d47-4bf5-b14c-7f49f17b50ed button.colab-df-convert');\n",
              "      buttonEl.style.display =\n",
              "        google.colab.kernel.accessAllowed ? 'block' : 'none';\n",
              "\n",
              "      async function convertToInteractive(key) {\n",
              "        const element = document.querySelector('#df-0b6454f2-5d47-4bf5-b14c-7f49f17b50ed');\n",
              "        const dataTable =\n",
              "          await google.colab.kernel.invokeFunction('convertToInteractive',\n",
              "                                                    [key], {});\n",
              "        if (!dataTable) return;\n",
              "\n",
              "        const docLinkHtml = 'Like what you see? Visit the ' +\n",
              "          '<a target=\"_blank\" href=https://colab.research.google.com/notebooks/data_table.ipynb>data table notebook</a>'\n",
              "          + ' to learn more about interactive tables.';\n",
              "        element.innerHTML = '';\n",
              "        dataTable['output_type'] = 'display_data';\n",
              "        await google.colab.output.renderOutput(dataTable, element);\n",
              "        const docLink = document.createElement('div');\n",
              "        docLink.innerHTML = docLinkHtml;\n",
              "        element.appendChild(docLink);\n",
              "      }\n",
              "    </script>\n",
              "  </div>\n",
              "\n",
              "\n",
              "<div id=\"df-69fa3189-67cb-4b9d-b047-627f65b0c135\">\n",
              "  <button class=\"colab-df-quickchart\" onclick=\"quickchart('df-69fa3189-67cb-4b9d-b047-627f65b0c135')\"\n",
              "            title=\"Suggest charts\"\n",
              "            style=\"display:none;\">\n",
              "\n",
              "<svg xmlns=\"http://www.w3.org/2000/svg\" height=\"24px\"viewBox=\"0 0 24 24\"\n",
              "     width=\"24px\">\n",
              "    <g>\n",
              "        <path d=\"M19 3H5c-1.1 0-2 .9-2 2v14c0 1.1.9 2 2 2h14c1.1 0 2-.9 2-2V5c0-1.1-.9-2-2-2zM9 17H7v-7h2v7zm4 0h-2V7h2v10zm4 0h-2v-4h2v4z\"/>\n",
              "    </g>\n",
              "</svg>\n",
              "  </button>\n",
              "\n",
              "<style>\n",
              "  .colab-df-quickchart {\n",
              "      --bg-color: #E8F0FE;\n",
              "      --fill-color: #1967D2;\n",
              "      --hover-bg-color: #E2EBFA;\n",
              "      --hover-fill-color: #174EA6;\n",
              "      --disabled-fill-color: #AAA;\n",
              "      --disabled-bg-color: #DDD;\n",
              "  }\n",
              "\n",
              "  [theme=dark] .colab-df-quickchart {\n",
              "      --bg-color: #3B4455;\n",
              "      --fill-color: #D2E3FC;\n",
              "      --hover-bg-color: #434B5C;\n",
              "      --hover-fill-color: #FFFFFF;\n",
              "      --disabled-bg-color: #3B4455;\n",
              "      --disabled-fill-color: #666;\n",
              "  }\n",
              "\n",
              "  .colab-df-quickchart {\n",
              "    background-color: var(--bg-color);\n",
              "    border: none;\n",
              "    border-radius: 50%;\n",
              "    cursor: pointer;\n",
              "    display: none;\n",
              "    fill: var(--fill-color);\n",
              "    height: 32px;\n",
              "    padding: 0;\n",
              "    width: 32px;\n",
              "  }\n",
              "\n",
              "  .colab-df-quickchart:hover {\n",
              "    background-color: var(--hover-bg-color);\n",
              "    box-shadow: 0 1px 2px rgba(60, 64, 67, 0.3), 0 1px 3px 1px rgba(60, 64, 67, 0.15);\n",
              "    fill: var(--button-hover-fill-color);\n",
              "  }\n",
              "\n",
              "  .colab-df-quickchart-complete:disabled,\n",
              "  .colab-df-quickchart-complete:disabled:hover {\n",
              "    background-color: var(--disabled-bg-color);\n",
              "    fill: var(--disabled-fill-color);\n",
              "    box-shadow: none;\n",
              "  }\n",
              "\n",
              "  .colab-df-spinner {\n",
              "    border: 2px solid var(--fill-color);\n",
              "    border-color: transparent;\n",
              "    border-bottom-color: var(--fill-color);\n",
              "    animation:\n",
              "      spin 1s steps(1) infinite;\n",
              "  }\n",
              "\n",
              "  @keyframes spin {\n",
              "    0% {\n",
              "      border-color: transparent;\n",
              "      border-bottom-color: var(--fill-color);\n",
              "      border-left-color: var(--fill-color);\n",
              "    }\n",
              "    20% {\n",
              "      border-color: transparent;\n",
              "      border-left-color: var(--fill-color);\n",
              "      border-top-color: var(--fill-color);\n",
              "    }\n",
              "    30% {\n",
              "      border-color: transparent;\n",
              "      border-left-color: var(--fill-color);\n",
              "      border-top-color: var(--fill-color);\n",
              "      border-right-color: var(--fill-color);\n",
              "    }\n",
              "    40% {\n",
              "      border-color: transparent;\n",
              "      border-right-color: var(--fill-color);\n",
              "      border-top-color: var(--fill-color);\n",
              "    }\n",
              "    60% {\n",
              "      border-color: transparent;\n",
              "      border-right-color: var(--fill-color);\n",
              "    }\n",
              "    80% {\n",
              "      border-color: transparent;\n",
              "      border-right-color: var(--fill-color);\n",
              "      border-bottom-color: var(--fill-color);\n",
              "    }\n",
              "    90% {\n",
              "      border-color: transparent;\n",
              "      border-bottom-color: var(--fill-color);\n",
              "    }\n",
              "  }\n",
              "</style>\n",
              "\n",
              "  <script>\n",
              "    async function quickchart(key) {\n",
              "      const quickchartButtonEl =\n",
              "        document.querySelector('#' + key + ' button');\n",
              "      quickchartButtonEl.disabled = true;  // To prevent multiple clicks.\n",
              "      quickchartButtonEl.classList.add('colab-df-spinner');\n",
              "      try {\n",
              "        const charts = await google.colab.kernel.invokeFunction(\n",
              "            'suggestCharts', [key], {});\n",
              "      } catch (error) {\n",
              "        console.error('Error during call to suggestCharts:', error);\n",
              "      }\n",
              "      quickchartButtonEl.classList.remove('colab-df-spinner');\n",
              "      quickchartButtonEl.classList.add('colab-df-quickchart-complete');\n",
              "    }\n",
              "    (() => {\n",
              "      let quickchartButtonEl =\n",
              "        document.querySelector('#df-69fa3189-67cb-4b9d-b047-627f65b0c135 button');\n",
              "      quickchartButtonEl.style.display =\n",
              "        google.colab.kernel.accessAllowed ? 'block' : 'none';\n",
              "    })();\n",
              "  </script>\n",
              "</div>\n",
              "    </div>\n",
              "  </div>\n"
            ]
          },
          "metadata": {},
          "execution_count": 268
        }
      ]
    },
    {
      "cell_type": "code",
      "source": [
        "X=X.dropna()"
      ],
      "metadata": {
        "id": "_D-D-b0qRyx7"
      },
      "execution_count": null,
      "outputs": []
    },
    {
      "cell_type": "code",
      "source": [
        "Y"
      ],
      "metadata": {
        "colab": {
          "base_uri": "https://localhost:8080/"
        },
        "id": "5M5SacevCyHQ",
        "outputId": "3dc672c0-d564-4af1-8ec8-e33dd75e23dc"
      },
      "execution_count": null,
      "outputs": [
        {
          "output_type": "execute_result",
          "data": {
            "text/plain": [
              "DATE\n",
              "2003-01-01    279.750000\n",
              "2003-02-01    280.890000\n",
              "2003-03-01    282.030000\n",
              "2003-04-01    283.170000\n",
              "2003-05-01    284.623333\n",
              "                 ...    \n",
              "2023-08-01    657.320000\n",
              "2023-09-01    657.320000\n",
              "2023-10-01    657.320000\n",
              "2023-11-01    657.320000\n",
              "2023-12-01    657.320000\n",
              "Freq: MS, Name: House Price Index, Length: 252, dtype: float64"
            ]
          },
          "metadata": {},
          "execution_count": 270
        }
      ]
    },
    {
      "cell_type": "markdown",
      "source": [
        "# **Scaling Values of X**"
      ],
      "metadata": {
        "id": "eP1dLaVnfuaS"
      }
    },
    {
      "cell_type": "code",
      "source": [
        "# Scaling values of X\n",
        "\n",
        "from sklearn.preprocessing import MinMaxScaler\n",
        "scaler = MinMaxScaler()\n",
        "X_scaled = scaler.fit_transform(X)\n"
      ],
      "metadata": {
        "id": "TGpW5SPmR9e3"
      },
      "execution_count": null,
      "outputs": []
    },
    {
      "cell_type": "code",
      "source": [
        "X = X_scaled[:249]\n",
        "y = y[:249]"
      ],
      "metadata": {
        "id": "4zORFZKYUTwB"
      },
      "execution_count": null,
      "outputs": []
    },
    {
      "cell_type": "markdown",
      "source": [
        "# **Splitting training and testing Dataset**"
      ],
      "metadata": {
        "id": "wK3CuX3uf1jR"
      }
    },
    {
      "cell_type": "code",
      "source": [
        "# Splitting dataset into train and test sets\n",
        "from sklearn.model_selection import train_test_split\n",
        "X_train, X_test, y_train, y_test = train_test_split(X_scaled, y, test_size = 0.20, random_state = 32)"
      ],
      "metadata": {
        "id": "zxjim7RoSF9a"
      },
      "execution_count": null,
      "outputs": []
    },
    {
      "cell_type": "markdown",
      "source": [
        "**Transforming Data**"
      ],
      "metadata": {
        "id": "kPVxT3dyf-eT"
      }
    },
    {
      "cell_type": "code",
      "source": [
        "# Transforming data\n",
        "scaler = MinMaxScaler()\n",
        "X_train = scaler.fit_transform(X_train)\n",
        "X_test = scaler.transform(X_test)\n"
      ],
      "metadata": {
        "id": "NVJinuijUqJ6"
      },
      "execution_count": null,
      "outputs": []
    },
    {
      "cell_type": "markdown",
      "source": [
        "# **Linear regression** - It assumes a linear relationship between the features and the target variable. In this case, it helps in understanding how changes in various factors impact house prices."
      ],
      "metadata": {
        "id": "_Q5KX-k6UxHJ"
      }
    },
    {
      "cell_type": "code",
      "source": [
        "# Fitting Multiple Linear Regression to the Training set\n",
        "from sklearn.linear_model import LinearRegression\n",
        "from sklearn import linear_model\n",
        "from sklearn.metrics import r2_score\n",
        "from sklearn.metrics import mean_squared_error\n",
        "regressor = LinearRegression()\n",
        "regressor.fit(X_train, y_train)"
      ],
      "metadata": {
        "colab": {
          "base_uri": "https://localhost:8080/",
          "height": 75
        },
        "id": "19U4hTkvUvXK",
        "outputId": "ad9081c6-fc69-49ef-c07b-1f5beaf766c8"
      },
      "execution_count": null,
      "outputs": [
        {
          "output_type": "execute_result",
          "data": {
            "text/plain": [
              "LinearRegression()"
            ],
            "text/html": [
              "<style>#sk-container-id-3 {color: black;background-color: white;}#sk-container-id-3 pre{padding: 0;}#sk-container-id-3 div.sk-toggleable {background-color: white;}#sk-container-id-3 label.sk-toggleable__label {cursor: pointer;display: block;width: 100%;margin-bottom: 0;padding: 0.3em;box-sizing: border-box;text-align: center;}#sk-container-id-3 label.sk-toggleable__label-arrow:before {content: \"▸\";float: left;margin-right: 0.25em;color: #696969;}#sk-container-id-3 label.sk-toggleable__label-arrow:hover:before {color: black;}#sk-container-id-3 div.sk-estimator:hover label.sk-toggleable__label-arrow:before {color: black;}#sk-container-id-3 div.sk-toggleable__content {max-height: 0;max-width: 0;overflow: hidden;text-align: left;background-color: #f0f8ff;}#sk-container-id-3 div.sk-toggleable__content pre {margin: 0.2em;color: black;border-radius: 0.25em;background-color: #f0f8ff;}#sk-container-id-3 input.sk-toggleable__control:checked~div.sk-toggleable__content {max-height: 200px;max-width: 100%;overflow: auto;}#sk-container-id-3 input.sk-toggleable__control:checked~label.sk-toggleable__label-arrow:before {content: \"▾\";}#sk-container-id-3 div.sk-estimator input.sk-toggleable__control:checked~label.sk-toggleable__label {background-color: #d4ebff;}#sk-container-id-3 div.sk-label input.sk-toggleable__control:checked~label.sk-toggleable__label {background-color: #d4ebff;}#sk-container-id-3 input.sk-hidden--visually {border: 0;clip: rect(1px 1px 1px 1px);clip: rect(1px, 1px, 1px, 1px);height: 1px;margin: -1px;overflow: hidden;padding: 0;position: absolute;width: 1px;}#sk-container-id-3 div.sk-estimator {font-family: monospace;background-color: #f0f8ff;border: 1px dotted black;border-radius: 0.25em;box-sizing: border-box;margin-bottom: 0.5em;}#sk-container-id-3 div.sk-estimator:hover {background-color: #d4ebff;}#sk-container-id-3 div.sk-parallel-item::after {content: \"\";width: 100%;border-bottom: 1px solid gray;flex-grow: 1;}#sk-container-id-3 div.sk-label:hover label.sk-toggleable__label {background-color: #d4ebff;}#sk-container-id-3 div.sk-serial::before {content: \"\";position: absolute;border-left: 1px solid gray;box-sizing: border-box;top: 0;bottom: 0;left: 50%;z-index: 0;}#sk-container-id-3 div.sk-serial {display: flex;flex-direction: column;align-items: center;background-color: white;padding-right: 0.2em;padding-left: 0.2em;position: relative;}#sk-container-id-3 div.sk-item {position: relative;z-index: 1;}#sk-container-id-3 div.sk-parallel {display: flex;align-items: stretch;justify-content: center;background-color: white;position: relative;}#sk-container-id-3 div.sk-item::before, #sk-container-id-3 div.sk-parallel-item::before {content: \"\";position: absolute;border-left: 1px solid gray;box-sizing: border-box;top: 0;bottom: 0;left: 50%;z-index: -1;}#sk-container-id-3 div.sk-parallel-item {display: flex;flex-direction: column;z-index: 1;position: relative;background-color: white;}#sk-container-id-3 div.sk-parallel-item:first-child::after {align-self: flex-end;width: 50%;}#sk-container-id-3 div.sk-parallel-item:last-child::after {align-self: flex-start;width: 50%;}#sk-container-id-3 div.sk-parallel-item:only-child::after {width: 0;}#sk-container-id-3 div.sk-dashed-wrapped {border: 1px dashed gray;margin: 0 0.4em 0.5em 0.4em;box-sizing: border-box;padding-bottom: 0.4em;background-color: white;}#sk-container-id-3 div.sk-label label {font-family: monospace;font-weight: bold;display: inline-block;line-height: 1.2em;}#sk-container-id-3 div.sk-label-container {text-align: center;}#sk-container-id-3 div.sk-container {/* jupyter's `normalize.less` sets `[hidden] { display: none; }` but bootstrap.min.css set `[hidden] { display: none !important; }` so we also need the `!important` here to be able to override the default hidden behavior on the sphinx rendered scikit-learn.org. See: https://github.com/scikit-learn/scikit-learn/issues/21755 */display: inline-block !important;position: relative;}#sk-container-id-3 div.sk-text-repr-fallback {display: none;}</style><div id=\"sk-container-id-3\" class=\"sk-top-container\"><div class=\"sk-text-repr-fallback\"><pre>LinearRegression()</pre><b>In a Jupyter environment, please rerun this cell to show the HTML representation or trust the notebook. <br />On GitHub, the HTML representation is unable to render, please try loading this page with nbviewer.org.</b></div><div class=\"sk-container\" hidden><div class=\"sk-item\"><div class=\"sk-estimator sk-toggleable\"><input class=\"sk-toggleable__control sk-hidden--visually\" id=\"sk-estimator-id-3\" type=\"checkbox\" checked><label for=\"sk-estimator-id-3\" class=\"sk-toggleable__label sk-toggleable__label-arrow\">LinearRegression</label><div class=\"sk-toggleable__content\"><pre>LinearRegression()</pre></div></div></div></div></div>"
            ]
          },
          "metadata": {},
          "execution_count": 228
        }
      ]
    },
    {
      "cell_type": "code",
      "source": [
        "# Predicting the Train set results\n",
        "\n",
        "Y_pred_train = regressor.predict(X_train)"
      ],
      "metadata": {
        "id": "JLNkhy6RVG1U"
      },
      "execution_count": null,
      "outputs": []
    },
    {
      "cell_type": "code",
      "source": [
        "# Predicting the Test set results\n",
        "\n",
        "Y_pred_test = regressor.predict(X_test)"
      ],
      "metadata": {
        "id": "eip_Drd8VLCC"
      },
      "execution_count": null,
      "outputs": []
    },
    {
      "cell_type": "code",
      "source": [
        "# r2 score of train set\n",
        "\n",
        "r2_linear_train = r2_score(y_train, Y_pred_train)\n",
        "r2_linear_train"
      ],
      "metadata": {
        "colab": {
          "base_uri": "https://localhost:8080/"
        },
        "id": "jmuvV9taVQu6",
        "outputId": "6cb2c586-db69-4b11-8345-b5398a8c1ae1"
      },
      "execution_count": null,
      "outputs": [
        {
          "output_type": "execute_result",
          "data": {
            "text/plain": [
              "1.0"
            ]
          },
          "metadata": {},
          "execution_count": 265
        }
      ]
    },
    {
      "cell_type": "code",
      "source": [
        "#metrics\n",
        "\n",
        "MSE  = mean_squared_error(y_test,Y_pred_test)\n",
        "print(\"MSE :\" , MSE)\n",
        "\n",
        "RMSE = np.sqrt(MSE)\n",
        "print(\"RMSE :\" ,RMSE)\n",
        "\n",
        "r2_linear_test = r2_score(y_test,Y_pred_test)\n",
        "print(\"R2 :\" ,r2_linear_test)\n",
        "print(\"Adjusted R2 : \",1-(1-r2_score(y_test,Y_pred_test))*((X_test.shape[0]-1)/(X_test.shape[0]-X_test.shape[1]-1)))"
      ],
      "metadata": {
        "colab": {
          "base_uri": "https://localhost:8080/"
        },
        "id": "WnEuVuaBVbFX",
        "outputId": "39a59882-36f6-4c9f-f714-19a0aa338b87"
      },
      "execution_count": null,
      "outputs": [
        {
          "output_type": "stream",
          "name": "stdout",
          "text": [
            "MSE : 1.2156346549455792e-29\n",
            "RMSE : 3.4865952660806203e-15\n",
            "R2 : 1.0\n",
            "Adjusted R2 :  1.0\n"
          ]
        }
      ]
    },
    {
      "cell_type": "markdown",
      "source": [
        "# **Ridge and Lasso**"
      ],
      "metadata": {
        "id": "PKpSIk5LWfDw"
      }
    },
    {
      "cell_type": "code",
      "source": [
        "X = X_scaled[:249]\n",
        "\n",
        "y = y[:249]"
      ],
      "metadata": {
        "id": "fS0z0J_gWkEr"
      },
      "execution_count": null,
      "outputs": []
    },
    {
      "cell_type": "code",
      "source": [
        "from sklearn.linear_model import LinearRegression\n",
        "from sklearn.linear_model import Ridge, RidgeCV, Lasso\n",
        "from sklearn.preprocessing import StandardScaler"
      ],
      "metadata": {
        "id": "mPxwelqddW8N"
      },
      "execution_count": null,
      "outputs": []
    },
    {
      "cell_type": "markdown",
      "source": [
        "# **Ridge** -It's effective when dealing with multicollinearity among predictor variables. By penalizing large coefficients, it reduces the impact of correlated features on the model, which can help improve its generalization to unseen data.\n"
      ],
      "metadata": {
        "id": "WYPSDNfnkfZ4"
      }
    },
    {
      "cell_type": "code",
      "source": [
        "#Model\n",
        "lr = LinearRegression()\n",
        "\n",
        "#Fit model\n",
        "lr.fit(X_train, y_train)\n",
        "\n",
        "#predict\n",
        "#prediction = lr.predict(X_test)\n",
        "\n",
        "#actual\n",
        "actual = y_test\n",
        "\n",
        "train_score_lr = lr.score(X_train, y_train)\n",
        "test_score_lr = lr.score(X_test, y_test)\n",
        "\n",
        "print(\"The train score for lr model is {}\".format(train_score_lr))\n",
        "print(\"The test score for lr model is {}\".format(test_score_lr))\n",
        "\n",
        "\n",
        "#Ridge Regression Model\n",
        "ridgeReg = Ridge(alpha=10)\n",
        "\n",
        "ridgeReg.fit(X_train,y_train)\n",
        "\n",
        "#train and test scorefor ridge regression\n",
        "train_score_ridge = ridgeReg.score(X_train, y_train)\n",
        "test_score_ridge = ridgeReg.score(X_test, y_test)\n",
        "\n",
        "print(\"\\nRidge Model\\n\")\n",
        "print(\"The train score for ridge model is {}\".format(train_score_ridge))\n",
        "print(\"The test score for ridge model is {}\".format(test_score_ridge))\n"
      ],
      "metadata": {
        "colab": {
          "base_uri": "https://localhost:8080/"
        },
        "id": "U9v-utyuc2_3",
        "outputId": "37ca6a14-fff4-48bc-c0ee-a1d9b768138d"
      },
      "execution_count": null,
      "outputs": [
        {
          "output_type": "stream",
          "name": "stdout",
          "text": [
            "The train score for lr model is 1.0\n",
            "The test score for lr model is 1.0\n",
            "\n",
            "Ridge Model\n",
            "\n",
            "The train score for ridge model is 0.7248154746839458\n",
            "The test score for ridge model is 0.6623121883216183\n"
          ]
        }
      ]
    },
    {
      "cell_type": "markdown",
      "source": [
        "# **Lasso** - Lasso tends to perform feature selection by driving some coefficients to zero. This is valuable when dealing with a large number of features, as it helps in identifying the most important predictors among them."
      ],
      "metadata": {
        "id": "Zl6CtQxekrqD"
      }
    },
    {
      "cell_type": "code",
      "source": [
        "#Lasso regression model\n",
        "print(\"\\nLasso Model\\n\")\n",
        "lasso = Lasso(alpha = 10)\n",
        "lasso.fit(X_train,y_train)\n",
        "train_score_ls =lasso.score(X_train,y_train)\n",
        "test_score_ls =lasso.score(X_test,y_test)\n",
        "\n",
        "print(\"The train score for ls model is {}\".format(train_score_ls))\n",
        "print(\"The test score for ls model is {}\".format(test_score_ls))\n"
      ],
      "metadata": {
        "colab": {
          "base_uri": "https://localhost:8080/"
        },
        "id": "m6w9uK3GdvKA",
        "outputId": "4251db3c-af38-4d60-c15c-ee6c5acc841b"
      },
      "execution_count": null,
      "outputs": [
        {
          "output_type": "stream",
          "name": "stdout",
          "text": [
            "\n",
            "Lasso Model\n",
            "\n",
            "The train score for ls model is 0.0\n",
            "The test score for ls model is -0.018629591804413703\n"
          ]
        }
      ]
    }
  ]
}